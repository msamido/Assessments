{
 "cells": [
  {
   "cell_type": "markdown",
   "metadata": {},
   "source": [
    "# Overview\n",
    "This assignment is to test a few key attributes we are looking for in a new team member. Most of these questions are not realistic, however, we hope that they serve as a way for you to demonstrate how you work and organise yourself. The questions are intentionally brief and simple, since we know that this is not the only job opportunity you are exploring."
   ]
  },
  {
   "cell_type": "markdown",
   "metadata": {},
   "source": [
    "### Performance\n",
    "\n",
    "Suppose the `get_resource_identifier` function interrogates some cloud infrastructure to resolve the resource identifier from its name. Note that it takes a long time for the call to finish resolving the name.\n",
    "\n",
    "Now imagine that we need to resolve the resource by its name multiple times during deployment of infrastructure. How can we speed this up without modifying the body of the `get_resource_identifier` function? Remember, you have no control over how quickly the cloud provider can respond to your API call.\n"
   ]
  },
  {
   "cell_type": "code",
   "execution_count": 10,
   "metadata": {},
   "outputs": [
    {
     "name": "stdout",
     "output_type": "stream",
     "text": [
      "L9UKvnomjq\n",
      "7U9eyOv7M\n",
      "L9UKvnomjq\n",
      "Not found\n",
      "7U9eyOv7M\n",
      "L9UKvnomjq\n",
      "7U9eyOv7M\n",
      "L9UKvnomjq\n",
      "Not found\n",
      "7U9eyOv7M\n",
      "L9UKvnomjq\n",
      "7U9eyOv7M\n",
      "L9UKvnomjq\n",
      "Not found\n",
      "7U9eyOv7M\n",
      "L9UKvnomjq\n",
      "7U9eyOv7M\n",
      "L9UKvnomjq\n",
      "Not found\n",
      "7U9eyOv7M\n",
      "L9UKvnomjq\n",
      "7U9eyOv7M\n",
      "L9UKvnomjq\n",
      "Not found\n",
      "7U9eyOv7M\n",
      "L9UKvnomjq\n",
      "7U9eyOv7M\n",
      "L9UKvnomjq\n",
      "Not found\n",
      "7U9eyOv7M\n",
      "L9UKvnomjq\n",
      "7U9eyOv7M\n",
      "L9UKvnomjq\n",
      "Not found\n",
      "7U9eyOv7M\n",
      "L9UKvnomjq\n",
      "7U9eyOv7M\n",
      "L9UKvnomjq\n",
      "Not found\n",
      "7U9eyOv7M\n",
      "L9UKvnomjq\n",
      "7U9eyOv7M\n",
      "L9UKvnomjq\n",
      "Not found\n",
      "7U9eyOv7M\n",
      "L9UKvnomjq\n",
      "7U9eyOv7M\n",
      "L9UKvnomjq\n",
      "Not found\n",
      "7U9eyOv7M\n",
      "L9UKvnomjq\n",
      "7U9eyOv7M\n",
      "L9UKvnomjq\n",
      "Not found\n",
      "7U9eyOv7M\n",
      "L9UKvnomjq\n",
      "7U9eyOv7M\n",
      "L9UKvnomjq\n",
      "Not found\n",
      "7U9eyOv7M\n",
      "L9UKvnomjq\n",
      "7U9eyOv7M\n",
      "L9UKvnomjq\n",
      "Not found\n",
      "7U9eyOv7M\n",
      "L9UKvnomjq\n",
      "7U9eyOv7M\n",
      "L9UKvnomjq\n",
      "Not found\n",
      "7U9eyOv7M\n",
      "L9UKvnomjq\n",
      "7U9eyOv7M\n",
      "L9UKvnomjq\n",
      "Not found\n",
      "7U9eyOv7M\n",
      "L9UKvnomjq\n",
      "7U9eyOv7M\n",
      "L9UKvnomjq\n",
      "Not found\n",
      "7U9eyOv7M\n",
      "L9UKvnomjq\n",
      "7U9eyOv7M\n",
      "L9UKvnomjq\n",
      "Not found\n",
      "7U9eyOv7M\n",
      "L9UKvnomjq\n",
      "7U9eyOv7M\n",
      "L9UKvnomjq\n",
      "Not found\n",
      "7U9eyOv7M\n",
      "L9UKvnomjq\n",
      "7U9eyOv7M\n",
      "L9UKvnomjq\n",
      "Not found\n",
      "7U9eyOv7M\n",
      "L9UKvnomjq\n",
      "7U9eyOv7M\n",
      "L9UKvnomjq\n",
      "Not found\n",
      "7U9eyOv7M\n",
      "L9UKvnomjq\n",
      "7U9eyOv7M\n",
      "L9UKvnomjq\n",
      "Not found\n",
      "7U9eyOv7M\n",
      "L9UKvnomjq\n",
      "7U9eyOv7M\n",
      "L9UKvnomjq\n",
      "Not found\n",
      "7U9eyOv7M\n",
      "L9UKvnomjq\n",
      "7U9eyOv7M\n",
      "L9UKvnomjq\n",
      "Not found\n",
      "7U9eyOv7M\n",
      "L9UKvnomjq\n",
      "7U9eyOv7M\n",
      "L9UKvnomjq\n",
      "Not found\n",
      "7U9eyOv7M\n",
      "L9UKvnomjq\n",
      "7U9eyOv7M\n",
      "L9UKvnomjq\n",
      "Not found\n",
      "7U9eyOv7M\n",
      "L9UKvnomjq\n",
      "7U9eyOv7M\n",
      "L9UKvnomjq\n",
      "Not found\n",
      "7U9eyOv7M\n",
      "L9UKvnomjq\n",
      "7U9eyOv7M\n",
      "L9UKvnomjq\n",
      "Not found\n",
      "7U9eyOv7M\n",
      "L9UKvnomjq\n",
      "7U9eyOv7M\n",
      "L9UKvnomjq\n",
      "Not found\n",
      "7U9eyOv7M\n",
      "L9UKvnomjq\n",
      "7U9eyOv7M\n",
      "L9UKvnomjq\n",
      "Not found\n",
      "7U9eyOv7M\n",
      "L9UKvnomjq\n",
      "7U9eyOv7M\n",
      "L9UKvnomjq\n",
      "Not found\n",
      "7U9eyOv7M\n",
      "L9UKvnomjq\n",
      "7U9eyOv7M\n",
      "L9UKvnomjq\n",
      "Not found\n",
      "7U9eyOv7M\n",
      "L9UKvnomjq\n",
      "7U9eyOv7M\n",
      "L9UKvnomjq\n",
      "Not found\n",
      "7U9eyOv7M\n",
      "L9UKvnomjq\n",
      "7U9eyOv7M\n",
      "L9UKvnomjq\n",
      "Not found\n",
      "7U9eyOv7M\n",
      "L9UKvnomjq\n",
      "7U9eyOv7M\n",
      "L9UKvnomjq\n",
      "Not found\n",
      "7U9eyOv7M\n",
      "L9UKvnomjq\n",
      "7U9eyOv7M\n",
      "L9UKvnomjq\n",
      "Not found\n",
      "7U9eyOv7M\n",
      "L9UKvnomjq\n",
      "7U9eyOv7M\n",
      "L9UKvnomjq\n",
      "Not found\n",
      "7U9eyOv7M\n",
      "L9UKvnomjq\n",
      "7U9eyOv7M\n",
      "L9UKvnomjq\n",
      "Not found\n",
      "7U9eyOv7M\n",
      "L9UKvnomjq\n",
      "7U9eyOv7M\n",
      "L9UKvnomjq\n",
      "Not found\n",
      "7U9eyOv7M\n",
      "L9UKvnomjq\n",
      "7U9eyOv7M\n",
      "L9UKvnomjq\n",
      "Not found\n",
      "7U9eyOv7M\n",
      "L9UKvnomjq\n",
      "7U9eyOv7M\n",
      "L9UKvnomjq\n",
      "Not found\n",
      "7U9eyOv7M\n",
      "L9UKvnomjq\n",
      "7U9eyOv7M\n",
      "L9UKvnomjq\n",
      "Not found\n",
      "7U9eyOv7M\n",
      "L9UKvnomjq\n",
      "7U9eyOv7M\n",
      "L9UKvnomjq\n",
      "Not found\n",
      "7U9eyOv7M\n",
      "L9UKvnomjq\n",
      "7U9eyOv7M\n",
      "L9UKvnomjq\n",
      "Not found\n",
      "7U9eyOv7M\n",
      "L9UKvnomjq\n",
      "7U9eyOv7M\n",
      "L9UKvnomjq\n",
      "Not found\n",
      "7U9eyOv7M\n",
      "L9UKvnomjq\n",
      "7U9eyOv7M\n",
      "L9UKvnomjq\n",
      "Not found\n",
      "7U9eyOv7M\n",
      "L9UKvnomjq\n",
      "7U9eyOv7M\n",
      "L9UKvnomjq\n",
      "Not found\n",
      "7U9eyOv7M\n",
      "L9UKvnomjq\n",
      "7U9eyOv7M\n",
      "L9UKvnomjq\n",
      "Not found\n",
      "7U9eyOv7M\n",
      "L9UKvnomjq\n",
      "7U9eyOv7M\n",
      "L9UKvnomjq\n",
      "Not found\n",
      "7U9eyOv7M\n",
      "L9UKvnomjq\n",
      "7U9eyOv7M\n",
      "L9UKvnomjq\n",
      "Not found\n",
      "7U9eyOv7M\n",
      "L9UKvnomjq\n",
      "7U9eyOv7M\n",
      "L9UKvnomjq\n",
      "Not found\n",
      "7U9eyOv7M\n",
      "L9UKvnomjq\n",
      "7U9eyOv7M\n",
      "L9UKvnomjq\n",
      "Not found\n",
      "7U9eyOv7M\n",
      "L9UKvnomjq\n",
      "7U9eyOv7M\n",
      "L9UKvnomjq\n",
      "Not found\n",
      "7U9eyOv7M\n",
      "L9UKvnomjq\n",
      "7U9eyOv7M\n",
      "L9UKvnomjq\n",
      "Not found\n",
      "7U9eyOv7M\n",
      "L9UKvnomjq\n",
      "7U9eyOv7M\n",
      "L9UKvnomjq\n",
      "Not found\n",
      "7U9eyOv7M\n",
      "L9UKvnomjq\n",
      "7U9eyOv7M\n",
      "L9UKvnomjq\n",
      "Not found\n",
      "7U9eyOv7M\n",
      "L9UKvnomjq\n",
      "7U9eyOv7M\n",
      "L9UKvnomjq\n",
      "Not found\n",
      "7U9eyOv7M\n",
      "L9UKvnomjq\n",
      "7U9eyOv7M\n",
      "L9UKvnomjq\n",
      "Not found\n",
      "7U9eyOv7M\n",
      "L9UKvnomjq\n",
      "7U9eyOv7M\n",
      "L9UKvnomjq\n",
      "Not found\n",
      "7U9eyOv7M\n",
      "L9UKvnomjq\n",
      "7U9eyOv7M\n",
      "L9UKvnomjq\n",
      "Not found\n",
      "7U9eyOv7M\n",
      "L9UKvnomjq\n",
      "7U9eyOv7M\n",
      "L9UKvnomjq\n",
      "Not found\n",
      "7U9eyOv7M\n",
      "L9UKvnomjq\n",
      "7U9eyOv7M\n",
      "L9UKvnomjq\n",
      "Not found\n",
      "7U9eyOv7M\n",
      "L9UKvnomjq\n",
      "7U9eyOv7M\n",
      "L9UKvnomjq\n",
      "Not found\n",
      "7U9eyOv7M\n",
      "L9UKvnomjq\n",
      "7U9eyOv7M\n",
      "L9UKvnomjq\n",
      "Not found\n",
      "7U9eyOv7M\n",
      "L9UKvnomjq\n",
      "7U9eyOv7M\n",
      "L9UKvnomjq\n",
      "Not found\n",
      "7U9eyOv7M\n"
     ]
    },
    {
     "ename": "KeyboardInterrupt",
     "evalue": "",
     "output_type": "error",
     "traceback": [
      "\u001b[1;31m---------------------------------------------------------------------------\u001b[0m",
      "\u001b[1;31mKeyboardInterrupt\u001b[0m                         Traceback (most recent call last)",
      "\u001b[1;32m<ipython-input-10-a7b4faecadbb>\u001b[0m in \u001b[0;36m<module>\u001b[1;34m\u001b[0m\n\u001b[0;32m      9\u001b[0m \u001b[1;33m\u001b[0m\u001b[0m\n\u001b[0;32m     10\u001b[0m \u001b[1;32mfor\u001b[0m \u001b[0m_\u001b[0m \u001b[1;32min\u001b[0m \u001b[0mrange\u001b[0m\u001b[1;33m(\u001b[0m\u001b[1;36m0\u001b[0m\u001b[1;33m,\u001b[0m\u001b[1;36m100\u001b[0m\u001b[1;33m)\u001b[0m\u001b[1;33m:\u001b[0m\u001b[1;33m\u001b[0m\u001b[1;33m\u001b[0m\u001b[0m\n\u001b[1;32m---> 11\u001b[1;33m     \u001b[0mprint\u001b[0m\u001b[1;33m(\u001b[0m\u001b[0mget_resource_identifier\u001b[0m\u001b[1;33m(\u001b[0m\u001b[1;34m'foo'\u001b[0m\u001b[1;33m)\u001b[0m\u001b[1;33m)\u001b[0m\u001b[1;33m\u001b[0m\u001b[1;33m\u001b[0m\u001b[0m\n\u001b[0m\u001b[0;32m     12\u001b[0m     \u001b[0mprint\u001b[0m\u001b[1;33m(\u001b[0m\u001b[0mget_resource_identifier\u001b[0m\u001b[1;33m(\u001b[0m\u001b[1;34m'bar'\u001b[0m\u001b[1;33m)\u001b[0m\u001b[1;33m)\u001b[0m\u001b[1;33m\u001b[0m\u001b[1;33m\u001b[0m\u001b[0m\n\u001b[0;32m     13\u001b[0m     \u001b[0mprint\u001b[0m\u001b[1;33m(\u001b[0m\u001b[0mget_resource_identifier\u001b[0m\u001b[1;33m(\u001b[0m\u001b[1;34m'foo'\u001b[0m\u001b[1;33m)\u001b[0m\u001b[1;33m)\u001b[0m\u001b[1;33m\u001b[0m\u001b[1;33m\u001b[0m\u001b[0m\n",
      "\u001b[1;32m<ipython-input-10-a7b4faecadbb>\u001b[0m in \u001b[0;36mget_resource_identifier\u001b[1;34m(name)\u001b[0m\n\u001b[0;32m      1\u001b[0m \u001b[1;32mimport\u001b[0m \u001b[0mtime\u001b[0m\u001b[1;33m\u001b[0m\u001b[1;33m\u001b[0m\u001b[0m\n\u001b[0;32m      2\u001b[0m \u001b[1;32mdef\u001b[0m \u001b[0mget_resource_identifier\u001b[0m\u001b[1;33m(\u001b[0m\u001b[0mname\u001b[0m\u001b[1;33m)\u001b[0m\u001b[1;33m:\u001b[0m\u001b[1;33m\u001b[0m\u001b[1;33m\u001b[0m\u001b[0m\n\u001b[1;32m----> 3\u001b[1;33m     \u001b[0mtime\u001b[0m\u001b[1;33m.\u001b[0m\u001b[0msleep\u001b[0m\u001b[1;33m(\u001b[0m\u001b[1;36m1\u001b[0m\u001b[1;33m)\u001b[0m\u001b[1;31m#simulate the delay\u001b[0m\u001b[1;33m\u001b[0m\u001b[1;33m\u001b[0m\u001b[0m\n\u001b[0m\u001b[0;32m      4\u001b[0m     \u001b[1;32mif\u001b[0m \u001b[0mname\u001b[0m \u001b[1;32mis\u001b[0m \u001b[1;34m'foo'\u001b[0m\u001b[1;33m:\u001b[0m\u001b[1;33m\u001b[0m\u001b[1;33m\u001b[0m\u001b[0m\n\u001b[0;32m      5\u001b[0m         \u001b[1;32mreturn\u001b[0m \u001b[1;34m'L9UKvnomjq'\u001b[0m\u001b[1;33m\u001b[0m\u001b[1;33m\u001b[0m\u001b[0m\n",
      "\u001b[1;31mKeyboardInterrupt\u001b[0m: "
     ]
    }
   ],
   "source": [
    "import time\n",
    "def get_resource_identifier(name):\n",
    "    time.sleep(1)#simulate the delay\n",
    "    if name is 'foo':\n",
    "        return 'L9UKvnomjq'\n",
    "    if name is 'bar':\n",
    "        return '7U9eyOv7M'\n",
    "    return 'Not found'\n",
    "\n",
    "for _ in range(0,100):\n",
    "    print(get_resource_identifier('foo'))\n",
    "    print(get_resource_identifier('bar'))\n",
    "    print(get_resource_identifier('foo'))\n",
    "    print(get_resource_identifier('zoo'))\n",
    "    print(get_resource_identifier('bar'))"
   ]
  },
  {
   "cell_type": "code",
   "execution_count": null,
   "metadata": {},
   "outputs": [],
   "source": []
  },
  {
   "cell_type": "markdown",
   "metadata": {},
   "source": [
    "### Readability and simplicity"
   ]
  },
  {
   "cell_type": "markdown",
   "metadata": {},
   "source": [
    "#### Refactor\n",
    "The section below is an opportunity for you to demonstrate how you refactor code into something simpler and more readable. Refactor the code and write some very simple sanity checks to show that the refactored version is equivalent to the ugly version. You may leave out tests where you think it is not needed."
   ]
  },
  {
   "cell_type": "code",
   "execution_count": 1,
   "metadata": {},
   "outputs": [],
   "source": [
    "# Don't modify this\n",
    "colours = ['blue','green','yellow','black','orange']\n",
    "fruits = ['berry','apple','banana','currant']\n",
    "# All of the rest below you may modify \n",
    "# as you please to achieve the desired output"
   ]
  },
  {
   "cell_type": "code",
   "execution_count": 5,
   "metadata": {},
   "outputs": [
    {
     "name": "stdout",
     "output_type": "stream",
     "text": [
      "orange\n",
      "black\n",
      "yellow\n",
      "green\n",
      "blue\n"
     ]
    }
   ],
   "source": [
    "#ugly\n",
    "for i in range(len(colours)-1,-1,-1):\n",
    "    print(colours[i])\n",
    "\n",
    "#refactor below"
   ]
  },
  {
   "cell_type": "code",
   "execution_count": 16,
   "metadata": {},
   "outputs": [
    {
     "name": "stdout",
     "output_type": "stream",
     "text": [
      "orange\n",
      "black\n",
      "yellow\n",
      "green\n",
      "blue\n"
     ]
    }
   ],
   "source": [
    "#refactor below\n",
    "for i in reversed(colours):\n",
    "    print(i)"
   ]
  },
  {
   "cell_type": "code",
   "execution_count": 17,
   "metadata": {},
   "outputs": [
    {
     "name": "stdout",
     "output_type": "stream",
     "text": [
      "0 blue\n",
      "1 green\n",
      "2 yellow\n",
      "3 black\n",
      "4 orange\n"
     ]
    }
   ],
   "source": [
    "#ugly\n",
    "for i in range(len(colours)):\n",
    "    print(i,colours[i])\n",
    "    \n",
    "#refactor below"
   ]
  },
  {
   "cell_type": "code",
   "execution_count": 19,
   "metadata": {},
   "outputs": [
    {
     "name": "stdout",
     "output_type": "stream",
     "text": [
      "0 blue\n",
      "1 green\n",
      "2 yellow\n",
      "3 black\n",
      "4 orange\n"
     ]
    }
   ],
   "source": [
    "#refactor below\n",
    "for i,color in enumerate(colours):\n",
    "    print(i,color)"
   ]
  },
  {
   "cell_type": "code",
   "execution_count": 20,
   "metadata": {},
   "outputs": [
    {
     "name": "stdout",
     "output_type": "stream",
     "text": [
      "blue berry\n",
      "green apple\n",
      "yellow banana\n",
      "black currant\n"
     ]
    }
   ],
   "source": [
    "#ugly\n",
    "min_length = min(len(colours),len(fruits))\n",
    "for i in range(min_length):\n",
    "    print(colours[i],fruits[i])\n",
    "    \n",
    "#refactor below"
   ]
  },
  {
   "cell_type": "code",
   "execution_count": 31,
   "metadata": {},
   "outputs": [
    {
     "name": "stdout",
     "output_type": "stream",
     "text": [
      "blue berry\n",
      "green apple\n",
      "yellow banana\n",
      "black currant\n"
     ]
    }
   ],
   "source": [
    "#refactor below\n",
    "min_length = dict(zip(colours, fruits))\n",
    "\n",
    "for i in min_length:\n",
    "     print(i,min_length[i])"
   ]
  },
  {
   "cell_type": "code",
   "execution_count": 52,
   "metadata": {},
   "outputs": [
    {
     "name": "stdout",
     "output_type": "stream",
     "text": [
      "pass\n"
     ]
    }
   ],
   "source": [
    "#ugly\n",
    "#you may deal with these variables in the abstract\n",
    "#you can give them values if you want to do some\n",
    "#sanity checks\n",
    "\n",
    "if a <= b and f <= g and c<=d and d<=f and b<=c:\n",
    "    print('pass')\n",
    "else:\n",
    "    print('fail')\n",
    "    \n",
    "#refactor below"
   ]
  },
  {
   "cell_type": "code",
   "execution_count": 55,
   "metadata": {},
   "outputs": [
    {
     "name": "stdout",
     "output_type": "stream",
     "text": [
      "pass\n"
     ]
    }
   ],
   "source": [
    "#refactor below\n",
    "\n",
    "li=['a','b','c','d','f','g']\n",
    "\n",
    "\n",
    "for i in range(len(li)-1):\n",
    "    result=''\n",
    "    if li[i] <= li[i+1]:\n",
    "        result='pass'\n",
    "    else:\n",
    "        result='fail'\n",
    "print(result)\n",
    "        "
   ]
  },
  {
   "cell_type": "markdown",
   "metadata": {},
   "source": [
    "#### Implement\n",
    "This section provides an opportunity to demonstrate how you would write some very simple things in a pythonic way."
   ]
  },
  {
   "cell_type": "markdown",
   "metadata": {},
   "source": [
    "Task1:"
   ]
  },
  {
   "cell_type": "code",
   "execution_count": null,
   "metadata": {},
   "outputs": [],
   "source": [
    "#Generate the following string from the colours list defined above:\n",
    "# 'blue --> green --> yellow --> black --> orange'"
   ]
  },
  {
   "cell_type": "markdown",
   "metadata": {},
   "source": [
    "Task2"
   ]
  },
  {
   "cell_type": "code",
   "execution_count": null,
   "metadata": {},
   "outputs": [],
   "source": [
    "# find the elements that exist in the first list but not the second\n",
    "# and the elements that exist in the second, but not in the first\n",
    "# put this result in into a single list and sort them in ascending order\n",
    "\n",
    "\n",
    "first = [2,2,5,6,7,2,1,8,9,9]\n",
    "second = [2,1,5,6,66,7,77]"
   ]
  }
 ],
 "metadata": {
  "kernelspec": {
   "display_name": "Python 3",
   "language": "python",
   "name": "python3"
  },
  "language_info": {
   "codemirror_mode": {
    "name": "ipython",
    "version": 3
   },
   "file_extension": ".py",
   "mimetype": "text/x-python",
   "name": "python",
   "nbconvert_exporter": "python",
   "pygments_lexer": "ipython3",
   "version": "3.7.1"
  }
 },
 "nbformat": 4,
 "nbformat_minor": 2
}
