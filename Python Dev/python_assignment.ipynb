{
 "cells": [
  {
   "cell_type": "markdown",
   "metadata": {},
   "source": [
    "# Overview\n",
    "This assignment is to test a few key attributes we are looking for in a new team member. Most of these questions are not realistic, however, we hope that they serve as a way for you to demonstrate how you work and organise yourself. The questions are intentionally brief and simple, since we know that this is not the only job opportunity you are exploring."
   ]
  },
  {
   "cell_type": "markdown",
   "metadata": {},
   "source": [
    "### Performance\n",
    "\n",
    "Suppose the `get_resource_identifier` function interrogates some cloud infrastructure to resolve the resource identifier from its name. Note that it takes a long time for the call to finish resolving the name.\n",
    "\n",
    "Now imagine that we need to resolve the resource by its name multiple times during deployment of infrastructure. How can we speed this up without modifying the body of the `get_resource_identifier` function? Remember, you have no control over how quickly the cloud provider can respond to your API call.\n"
   ]
  },
  {
   "cell_type": "code",
   "execution_count": 6,
   "metadata": {},
   "outputs": [
    {
     "name": "stdout",
     "output_type": "stream",
     "text": [
      "L9UKvnomjq\n",
      "7U9eyOv7M\n",
      "L9UKvnomjq\n",
      "7U9eyOv7M\n",
      "L9UKvnomjq\n",
      "7U9eyOv7M\n",
      "L9UKvnomjq\n",
      "7U9eyOv7M\n",
      "L9UKvnomjq\n",
      "7U9eyOv7M\n",
      "L9UKvnomjq\n",
      "7U9eyOv7M\n",
      "L9UKvnomjq\n",
      "7U9eyOv7M\n",
      "L9UKvnomjq\n",
      "7U9eyOv7M\n",
      "L9UKvnomjq\n",
      "7U9eyOv7M\n",
      "L9UKvnomjq\n",
      "7U9eyOv7M\n"
     ]
    }
   ],
   "source": [
    "import time\n",
    "def get_resource_identifier(name):\n",
    "    time.sleep(1)#simulate the delay\n",
    "    if name is 'foo':\n",
    "        return 'L9UKvnomjq'\n",
    "    if name is 'bar':\n",
    "        return '7U9eyOv7M'\n",
    "    return 'Not found'\n",
    "\n",
    "for i in range(0,10):\n",
    "#     time.sleep(0.03)\n",
    "    print(get_resource_identifier('foo'))\n",
    "    print(get_resource_identifier('bar'))\n"
   ]
  },
  {
   "cell_type": "markdown",
   "metadata": {},
   "source": [
    "### Readability and simplicity"
   ]
  },
  {
   "cell_type": "markdown",
   "metadata": {},
   "source": [
    "#### Refactor\n",
    "The section below is an opportunity for you to demonstrate how you refactor code into something simpler and more readable. Refactor the code and write some very simple sanity checks to show that the refactored version is equivalent to the ugly version. You may leave out tests where you think it is not needed."
   ]
  },
  {
   "cell_type": "code",
   "execution_count": 1,
   "metadata": {},
   "outputs": [],
   "source": [
    "# Don't modify this\n",
    "colours = ['blue','green','yellow','black','orange']\n",
    "fruits = ['berry','apple','banana','currant']\n",
    "# All of the rest below you may modify \n",
    "# as you please to achieve the desired output"
   ]
  },
  {
   "cell_type": "code",
   "execution_count": 104,
   "metadata": {},
   "outputs": [
    {
     "name": "stdout",
     "output_type": "stream",
     "text": [
      "orange\n",
      "black\n",
      "yellow\n",
      "green\n",
      "blue\n",
      "orange\n",
      "black\n",
      "yellow\n",
      "green\n",
      "blue\n"
     ]
    }
   ],
   "source": [
    "#ugly\n",
    "for i in range(len(colours)-1,-1,-1):\n",
    "    print(colours[i])\n",
    "\n",
    "#refactor below\n",
    "for i in colours[::-1]:\n",
    "    print(i)"
   ]
  },
  {
   "cell_type": "code",
   "execution_count": 105,
   "metadata": {},
   "outputs": [
    {
     "name": "stdout",
     "output_type": "stream",
     "text": [
      "0 blue\n",
      "1 green\n",
      "2 yellow\n",
      "3 black\n",
      "4 orange\n",
      "0 blue\n",
      "1 green\n",
      "2 yellow\n",
      "3 black\n",
      "4 orange\n"
     ]
    }
   ],
   "source": [
    "#ugly\n",
    "for i in range(len(colours)):\n",
    "    print(i,colours[i])\n",
    "    \n",
    "#refactor below\n",
    "for i,color in enumerate(colours):\n",
    "    print(i,color)"
   ]
  },
  {
   "cell_type": "code",
   "execution_count": 106,
   "metadata": {},
   "outputs": [
    {
     "name": "stdout",
     "output_type": "stream",
     "text": [
      "blue berry\n",
      "green apple\n",
      "yellow banana\n",
      "black currant\n",
      "blue berry\n",
      "green apple\n",
      "yellow banana\n",
      "black currant\n"
     ]
    }
   ],
   "source": [
    "#ugly\n",
    "min_length = min(len(colours),len(fruits))\n",
    "for i in range(min_length):\n",
    "    print(colours[i],fruits[i])\n",
    "    \n",
    "#refactor below\n",
    "min_length = dict(zip(colours, fruits))\n",
    "\n",
    "for i in min_length:\n",
    "     print(i,min_length[i])"
   ]
  },
  {
   "cell_type": "code",
   "execution_count": 107,
   "metadata": {},
   "outputs": [
    {
     "name": "stdout",
     "output_type": "stream",
     "text": [
      "pass\n",
      "pass\n"
     ]
    }
   ],
   "source": [
    "#ugly\n",
    "#you may deal with these variables in the abstract\n",
    "#you can give them values if you want to do some\n",
    "#sanity checks\n",
    "\n",
    "if a <= b and f <= g and c<=d and d<=f and b<=c:\n",
    "    print('pass')\n",
    "else:\n",
    "    print('fail')\n",
    "    \n",
    "#refactor below\n",
    "lists=['a','b','c','d','f','g']\n",
    "\n",
    "for i in range(len(lists)-1):\n",
    "    result=''\n",
    "    if lists[i] <= lists[i+1]:\n",
    "        result='pass'\n",
    "    else:\n",
    "        result='fail'\n",
    "print(result)"
   ]
  },
  {
   "cell_type": "markdown",
   "metadata": {},
   "source": [
    "#### Implement\n",
    "This section provides an opportunity to demonstrate how you would write some very simple things in a pythonic way."
   ]
  },
  {
   "cell_type": "markdown",
   "metadata": {},
   "source": [
    "Task1:"
   ]
  },
  {
   "cell_type": "code",
   "execution_count": 110,
   "metadata": {},
   "outputs": [
    {
     "name": "stdout",
     "output_type": "stream",
     "text": [
      " blue --> green --> yellow --> black --> orange \n"
     ]
    }
   ],
   "source": [
    "#Generate the following string from the colours list defined above:\n",
    "# 'blue --> green --> yellow --> black --> orange'\n",
    "colors=''\n",
    "for color in colours:\n",
    "    colors+= ' '+color+' -->'\n",
    "colors=colors[:-3]\n",
    "    \n",
    "print(colors)"
   ]
  },
  {
   "cell_type": "markdown",
   "metadata": {},
   "source": [
    "Task2"
   ]
  },
  {
   "cell_type": "code",
   "execution_count": 111,
   "metadata": {},
   "outputs": [
    {
     "name": "stdout",
     "output_type": "stream",
     "text": [
      "[8, 9, 66, 77]\n"
     ]
    }
   ],
   "source": [
    "# find the elements that exist in the first list but not the second\n",
    "# and the elements that exist in the second, but not in the first\n",
    "# put this result in into a single list and sort them in ascending order\n",
    "\n",
    "\n",
    "first = [2,2,5,6,7,2,1,8,9,9]\n",
    "second = [2,1,5,6,66,7,77]\n",
    "\n",
    "first=set(first)\n",
    "second=set(second)\n",
    "\n",
    "\n",
    "first_ = first-second\n",
    "second_= second-first\n",
    "\n",
    "first_second=first_ | second_\n",
    "\n",
    "print(sorted(first_second))"
   ]
  },
  {
   "cell_type": "code",
   "execution_count": null,
   "metadata": {},
   "outputs": [],
   "source": []
  }
 ],
 "metadata": {
  "kernelspec": {
   "display_name": "Python 3",
   "language": "python",
   "name": "python3"
  },
  "language_info": {
   "codemirror_mode": {
    "name": "ipython",
    "version": 3
   },
   "file_extension": ".py",
   "mimetype": "text/x-python",
   "name": "python",
   "nbconvert_exporter": "python",
   "pygments_lexer": "ipython3",
   "version": "3.7.1"
  }
 },
 "nbformat": 4,
 "nbformat_minor": 2
}
